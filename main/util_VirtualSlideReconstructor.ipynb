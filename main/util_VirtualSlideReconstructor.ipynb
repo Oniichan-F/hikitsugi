{
 "cells": [
  {
   "cell_type": "code",
   "execution_count": null,
   "id": "6a2a326c-35ba-46b8-880e-33980bc676d5",
   "metadata": {},
   "outputs": [],
   "source": [
    "%cd .."
   ]
  },
  {
   "cell_type": "code",
   "execution_count": null,
   "id": "51799748-5a60-42a2-9146-a7f6f66157c5",
   "metadata": {},
   "outputs": [],
   "source": [
    "import numpy as np\n",
    "import pandas as pd\n",
    "from PIL import Image"
   ]
  },
  {
   "cell_type": "markdown",
   "id": "901ed7cf-9cea-45cf-836d-48ffa5baae3d",
   "metadata": {},
   "source": [
    "# VirtualSlide Reconstructor\n",
    "パッチ画像をバーチャルスライドに再構成する"
   ]
  },
  {
   "cell_type": "markdown",
   "id": "53f7eb9b-3658-43bd-b1c7-a2cce1db58c6",
   "metadata": {},
   "source": [
    "## I/O"
   ]
  },
  {
   "cell_type": "code",
   "execution_count": null,
   "id": "df58d4f6-bb6f-4d1b-b905-634ab85cb64e",
   "metadata": {},
   "outputs": [],
   "source": [
    "image_path = \"data/images\"\n",
    "label_path = \"data/labels/label_legacy.xlsx\"\n",
    "dummy_path = \"data/dummy/dummy.png\"\n",
    "output_path = \"main/outputs\"\n",
    "size = 256\n",
    "overlap = 64"
   ]
  },
  {
   "cell_type": "code",
   "execution_count": null,
   "id": "15d51e43-f7ec-401d-b212-eaed8b2d9089",
   "metadata": {},
   "outputs": [],
   "source": [
    "slide = \"C15-0369\"\n",
    "x_num, y_num = 64, 65\n",
    "\n",
    "# ラベルによるマスク\n",
    "# Noneでマスクをつけない\n",
    "key = None"
   ]
  },
  {
   "cell_type": "raw",
   "id": "411bd95c-a80a-4efc-b3bb-d8d8f5a93427",
   "metadata": {},
   "source": [
    "Memo\n",
    "\n",
    "C15-0369\n",
    "x_num = 64\n",
    "y_num = 65\n",
    "\n",
    "C18-2123\n",
    "x_num = 63\n",
    "y_num = 63\n",
    "\n",
    "C20-1528\n",
    "x_num = 64\n",
    "y_num = 64\n",
    "\n",
    "C20-5188\n",
    "x_num = 63\n",
    "y_num = 63\n",
    "\n",
    "C22-1797\n",
    "x_num = 62\n",
    "y_num = 63\n",
    "\n",
    "C22-3281\n",
    "x_num = 65\n",
    "y_num = 64"
   ]
  },
  {
   "cell_type": "markdown",
   "id": "425f51b7-a1bd-4329-96ff-5e80bf9534b9",
   "metadata": {},
   "source": [
    "## ReConstruct"
   ]
  },
  {
   "cell_type": "code",
   "execution_count": null,
   "id": "056c1409-ba4e-497c-bf64-0e3631801c8b",
   "metadata": {},
   "outputs": [],
   "source": [
    "def open_imgs(flist, impath, dumpath, size):\n",
    "    imlist = []\n",
    "    for f in flist:\n",
    "        if f == \"\":\n",
    "            im = Image.open(f\"{dumpath}\")\n",
    "        else:\n",
    "            im = Image.open(f\"{impath}/{f}\")\n",
    "            \n",
    "        im.resize((size, size))\n",
    "        imlist.append(im)\n",
    "\n",
    "    return imlist\n",
    "\n",
    "def horizontal_concat(imlist, labels, size, overlap):\n",
    "    total_w = size * len(imlist) - overlap * (len(imlist)-1)\n",
    "    w, h = size, size\n",
    "    dst = Image.new('RGB', (total_w, h))\n",
    "    \n",
    "    masks = [\n",
    "        Image.new('RGB', (w,h), (0,255,255)),\n",
    "        Image.new('RGB', (w,h), (0,255,0)),\n",
    "        Image.new('RGB', (w,h), (255,255,0)),\n",
    "        Image.new('RGB', (w,h), (255,128,0)),\n",
    "        Image.new('RGB', (w,h), (255,0,0)),\n",
    "    ]\n",
    "    \n",
    "    pos = 0\n",
    "    for i in range(len(imlist)):\n",
    "        im = imlist[i]\n",
    "        lb = labels[i]\n",
    "        \n",
    "        ## mask ##\n",
    "        if lb > -1:\n",
    "            mask = masks[lb]\n",
    "            im = Image.blend(im.convert('RGB'), mask, 0.3)\n",
    "        ## mask ##\n",
    "        \n",
    "        dst.paste(im, (pos, 0))\n",
    "        pos += (w - overlap)\n",
    "        \n",
    "    return dst\n",
    "\n",
    "def vertical_concat(imlist, size, overlap):\n",
    "    total_h = size * len(imlist) - overlap * (len(imlist)-1)\n",
    "    w, h = imlist[0].width, size\n",
    "    dst = Image.new('RGB', (w, total_h))\n",
    "    \n",
    "    pos = 0\n",
    "    for i in range(len(imlist)):\n",
    "        im = imlist[i]\n",
    "        dst.paste(im, (0, pos))\n",
    "        pos += (h - overlap)\n",
    "    \n",
    "    return dst"
   ]
  },
  {
   "cell_type": "code",
   "execution_count": null,
   "id": "bcfa0896-65cb-4a5b-906a-921d0c458523",
   "metadata": {},
   "outputs": [],
   "source": [
    "df = pd.read_excel(label_path)\n",
    "df = df.fillna(-1)\n",
    "\n",
    "fnames = df[\"fname\"].tolist()\n",
    "\n",
    "labels = None\n",
    "if key is not None:\n",
    "    labels = df[key]\n",
    "    if labels.dtype is not int: labels = labels.astype('int')\n",
    "    labels = labels.tolist()\n",
    "\n",
    "fname_coords = np.empty((y_num+1, x_num+1), dtype=object)\n",
    "label_coords = np.empty((y_num+1, x_num+1), dtype=int)\n",
    "for y in range(y_num+1):\n",
    "    for x in range(x_num+1):\n",
    "        fname = f\"C15-0369_{x}_{y}.png\"\n",
    "        if fname in fnames:\n",
    "            fname_coords[y][x] = fname\n",
    "            if key is not None:\n",
    "                label_coords[y][x] = labels[fnames.index(fname)]\n",
    "            else:\n",
    "                label_coords[y][x] = -1\n",
    "                \n",
    "        else:\n",
    "            fname_coords[y][x] = \"\"\n",
    "            label_coords[y][x] = -1\n",
    "            \n",
    "bufs = []\n",
    "for i in range(y_num+1):\n",
    "    buf = open_imgs(fname_coords[i,:].tolist(), image_path, dummy_path, size)\n",
    "    bufs.append(horizontal_concat(buf, label_coords[i,:], size, overlap))\n",
    "dst = vertical_concat(bufs, size, overlap)\n",
    "\n",
    "dst = dst.resize((1024, 1024))\n",
    "dst.save(f\"{output_path}/C15-0369.png\")"
   ]
  },
  {
   "cell_type": "code",
   "execution_count": null,
   "id": "21d426fc-1ec8-45a4-82c3-659b765a6182",
   "metadata": {},
   "outputs": [],
   "source": []
  }
 ],
 "metadata": {
  "kernelspec": {
   "display_name": "Python 3 (ipykernel)",
   "language": "python",
   "name": "python3"
  },
  "language_info": {
   "codemirror_mode": {
    "name": "ipython",
    "version": 3
   },
   "file_extension": ".py",
   "mimetype": "text/x-python",
   "name": "python",
   "nbconvert_exporter": "python",
   "pygments_lexer": "ipython3",
   "version": "3.8.12"
  }
 },
 "nbformat": 4,
 "nbformat_minor": 5
}
