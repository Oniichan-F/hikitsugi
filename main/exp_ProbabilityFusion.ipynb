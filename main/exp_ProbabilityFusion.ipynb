{
 "cells": [
  {
   "cell_type": "code",
   "execution_count": null,
   "id": "5191f7da-cfdb-4ed9-9e37-4edbfbdea09d",
   "metadata": {},
   "outputs": [],
   "source": [
    "%cd .."
   ]
  },
  {
   "cell_type": "markdown",
   "id": "b54f789e-b14d-4ab4-bf75-f4319abe2b26",
   "metadata": {},
   "source": [
    "# 予測融合\n",
    "doctorA, doctorB, doctorCのresultsを1つに融合する"
   ]
  },
  {
   "cell_type": "code",
   "execution_count": null,
   "id": "4fb54e23-ffee-444c-9a0a-b89110032ad1",
   "metadata": {},
   "outputs": [],
   "source": [
    "import pandas as pd"
   ]
  },
  {
   "cell_type": "markdown",
   "id": "3ea7a764-b9e8-4da3-8378-971df20f615a",
   "metadata": {},
   "source": [
    "## I/O"
   ]
  },
  {
   "cell_type": "code",
   "execution_count": null,
   "id": "e5305d96-245a-4be1-a2f1-a2cce3ca7e74",
   "metadata": {},
   "outputs": [],
   "source": [
    "results_inpath = [\"main/outputs/model=doctorA/results\",\n",
    "                  \"main/outputs/model=doctorB/results\",\n",
    "                  \"main/outputs/model=doctorC/results\"]\n",
    "\n",
    "results_outpath = \"main/outputs/ProbFusion/results\"\n",
    "\n",
    "name_classes = [\"positive\",\"negative\"]"
   ]
  },
  {
   "cell_type": "markdown",
   "id": "a5605729-2779-4100-9728-d5e2e034fec4",
   "metadata": {},
   "source": [
    "## ProbFusion"
   ]
  },
  {
   "cell_type": "code",
   "execution_count": null,
   "id": "aa55899b-45cb-489f-8ec4-8ebcfb252f23",
   "metadata": {},
   "outputs": [],
   "source": [
    "for slide in [\"C15-0369\", \"C18-2123\", \"C20-1528\", \"C20-5188\", \"C22-1797\", \"C22-3281\"]:\n",
    "    # エクセルを読み込む\n",
    "    df_doctorA = pd.read_excel(f\"{results_inpath[0]}/{slide}_results.xlsx\")\n",
    "    df_doctorB = pd.read_excel(f\"{results_inpath[1]}/{slide}_results.xlsx\")\n",
    "    df_doctorC = pd.read_excel(f\"{results_inpath[2]}/{slide}_results.xlsx\")\n",
    "    \n",
    "    # ファイル名が一致するかチェック\n",
    "    is_mismatch = False\n",
    "    fnames_doctorA = df_doctorA['fname'].tolist()\n",
    "    fnames_doctorB = df_doctorB['fname'].tolist()\n",
    "    fnames_doctorC = df_doctorC['fname'].tolist()\n",
    "\n",
    "    for i, j, k in zip(fnames_doctorA, fnames_doctorB, fnames_doctorC):\n",
    "        if i == j and j == k:\n",
    "            pass\n",
    "        else:\n",
    "            print(\">> mismatch\")\n",
    "            is_mismatch = True\n",
    "            break\n",
    "    if is_mismatch: break\n",
    "    print(f\"{slide} is matched\")\n",
    "    \n",
    "    # 融合\n",
    "    fnames = fnames_doctorA\n",
    "    trues  = df_doctorA['true']\n",
    "\n",
    "    p_doctorA, n_doctorA = df_doctorA['positive'], df_doctorA['negative']\n",
    "    p_doctorB, n_doctorB = df_doctorB['positive'], df_doctorB['negative']\n",
    "    p_doctorC, n_doctorC = df_doctorC['positive'], df_doctorC['negative']\n",
    "    p_total = [i+j+k for i, j, k in zip(p_doctorA, p_doctorB, p_doctorC)]\n",
    "    n_total = [i+j+k for i, j, k in zip(n_doctorA, n_doctorB, n_doctorC)]\n",
    "    p_reg = [p/(p+n) for p, n in zip(p_total, n_total)]\n",
    "    n_reg = [n/(p+n) for p, n in zip(p_total, n_total)]\n",
    "    \n",
    "    # 出力\n",
    "    d = dict(\n",
    "        fname = fnames,\n",
    "        true  = trues,\n",
    "        positive = p_reg,\n",
    "        negative = n_reg,\n",
    "        positive_doctorA = p_doctorA,\n",
    "        positive_doctorB = p_doctorB,\n",
    "        positive_doctorC = p_doctorC,\n",
    "        negative_doctorA = n_doctorA,\n",
    "        negative_doctorB = n_doctorB,\n",
    "        negative_doctorC = n_doctorC,\n",
    "    )\n",
    "    \n",
    "    df_out = pd.DataFrame.from_dict(d)\n",
    "    df_out.to_excel(f\"{results_outpath}/{slide}_results.xlsx\", index=False)\n",
    "print(\"end\")"
   ]
  },
  {
   "cell_type": "code",
   "execution_count": null,
   "id": "6e5a4900-d5c7-496c-8e25-67b611cca413",
   "metadata": {},
   "outputs": [],
   "source": []
  }
 ],
 "metadata": {
  "kernelspec": {
   "display_name": "Python 3 (ipykernel)",
   "language": "python",
   "name": "python3"
  },
  "language_info": {
   "codemirror_mode": {
    "name": "ipython",
    "version": 3
   },
   "file_extension": ".py",
   "mimetype": "text/x-python",
   "name": "python",
   "nbconvert_exporter": "python",
   "pygments_lexer": "ipython3",
   "version": "3.8.12"
  }
 },
 "nbformat": 4,
 "nbformat_minor": 5
}
