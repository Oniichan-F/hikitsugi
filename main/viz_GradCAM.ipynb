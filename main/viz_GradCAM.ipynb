{
 "cells": [
  {
   "cell_type": "code",
   "execution_count": null,
   "id": "215c1b6d-60fb-4645-8013-30c9c9b167f1",
   "metadata": {},
   "outputs": [],
   "source": [
    "%cd .."
   ]
  },
  {
   "cell_type": "markdown",
   "id": "60c8a42a-5bdf-483a-a8a5-c0fcad5ed377",
   "metadata": {},
   "source": [
    "# Grad-CAM\n",
    "モデルのチェックポイントからGrad-CAMを生成"
   ]
  },
  {
   "cell_type": "code",
   "execution_count": null,
   "id": "7e9908a0-9cd9-4e57-8769-986865bde84d",
   "metadata": {},
   "outputs": [],
   "source": [
    "from mylib.data import my_dataloader, my_dataset\n",
    "from mylib.classification.models import my_cnn"
   ]
  },
  {
   "cell_type": "code",
   "execution_count": null,
   "id": "7614770f-e538-4eb7-a49b-5f82c0c1c956",
   "metadata": {},
   "outputs": [],
   "source": [
    "import sys\n",
    "import cv2\n",
    "import numpy as np\n",
    "import torch\n",
    "\n",
    "import pytorch_grad_cam\n",
    "from pytorch_grad_cam.utils.model_targets import ClassifierOutputTarget\n",
    "from pytorch_grad_cam.utils.image import show_cam_on_image"
   ]
  },
  {
   "cell_type": "code",
   "execution_count": null,
   "id": "f2009530-173b-4013-9c63-a94877291217",
   "metadata": {},
   "outputs": [],
   "source": [
    "from tqdm import tqdm\n",
    "from functools import partialmethod\n",
    "\n",
    "tqdm.__init__ = partialmethod(tqdm.__init__, disable=True)"
   ]
  },
  {
   "cell_type": "code",
   "execution_count": null,
   "id": "f6642d03-1573-4835-b655-d9c194c0aac7",
   "metadata": {},
   "outputs": [],
   "source": [
    "print(f\"Python version: {sys.version}\")\n",
    "print(f\"Torch version:  {torch.__version__}\")\n",
    "print(f\"CUDA available: {torch.cuda.is_available()}\")\n",
    "print(f\"device name:    {torch.cuda.get_device_name()}\")\n",
    "\n",
    "device = torch.device('cuda:0' if torch.cuda.is_available() else 'cpu')"
   ]
  },
  {
   "cell_type": "markdown",
   "id": "72e4f71e-8da1-4d7a-b4c6-ae9adacc5a76",
   "metadata": {},
   "source": [
    "## I/O"
   ]
  },
  {
   "cell_type": "code",
   "execution_count": null,
   "id": "5ef94d29-1382-46e3-817e-f5d962eca8db",
   "metadata": {},
   "outputs": [],
   "source": [
    "image_path  = \"data/images\"\n",
    "label_path  = \"data/labels/label_legacy.xlsx\"\n",
    "ckpt_path   = \"main/outputs/model=doctorA/ckpt\"\n",
    "output_path = \"main/outputs/model=doctorA/grad_cam\"\n",
    "\n",
    "fname_key = \"fname\"\n",
    "label_key = \"pap2_groundtruth\"\n",
    "fold_key  = \"slide\"\n",
    "\n",
    "name_classes = ['positive','negative']\n",
    "num_classes  = len(name_classes)"
   ]
  },
  {
   "cell_type": "markdown",
   "id": "09a66f1f-fc24-4cc3-a235-e649245bd6d7",
   "metadata": {},
   "source": [
    "## Parameters"
   ]
  },
  {
   "cell_type": "code",
   "execution_count": null,
   "id": "4ca67ce6-738f-4324-9335-d2a0b64ea38f",
   "metadata": {},
   "outputs": [],
   "source": [
    "image_size = 224"
   ]
  },
  {
   "cell_type": "markdown",
   "id": "f80bbb56-c95f-44ab-83ae-1d134fe5347e",
   "metadata": {},
   "source": [
    "## Data"
   ]
  },
  {
   "cell_type": "code",
   "execution_count": null,
   "id": "ff75f64b-0b73-4906-b6d0-4d7ddc593be6",
   "metadata": {},
   "outputs": [],
   "source": [
    "# データのロード\n",
    "_images, _labels, _fnames, _folds = my_dataloader.loadData4(\n",
    "    image_path,\n",
    "    label_path,\n",
    "    fname_key = fname_key,\n",
    "    label_key = label_key,\n",
    "    fold_key  = fold_key,\n",
    "    resize    = image_size,\n",
    "    to_tensor = False\n",
    ")\n",
    "print(len(_fnames))\n",
    "\n",
    "\n",
    "# 不適切なデータを除去\n",
    "# 不適切なデータ：label=-1\n",
    "images, labels, fnames, folds = [], [], [], []\n",
    "for i in range(len(_images)):\n",
    "    if _labels[i] != -1:\n",
    "        images.append(_images[i])\n",
    "        labels.append(_labels[i])\n",
    "        fnames.append(_fnames[i])\n",
    "        folds.append(_folds[i])"
   ]
  },
  {
   "cell_type": "code",
   "execution_count": null,
   "id": "c2b229f8-41ad-4551-bb77-c4d2cc20b2cd",
   "metadata": {},
   "outputs": [],
   "source": [
    "# データセットの作成\n",
    "dataset = my_dataset.MyDataset(images, labels, fnames, name_classes)\n",
    "\n",
    "# Leave-one-case-outマネージャーを作成\n",
    "managers = my_dataset.getLocoManager(folds)"
   ]
  },
  {
   "cell_type": "markdown",
   "id": "1c510fa6-9514-4862-a062-689ee1ec2087",
   "metadata": {},
   "source": [
    "## Generate Grad-CAM"
   ]
  },
  {
   "cell_type": "code",
   "execution_count": null,
   "id": "4e999ac0-3676-4916-85ec-54ab046ad062",
   "metadata": {},
   "outputs": [],
   "source": [
    "import torchvision.transforms as T\n",
    "\n",
    "transforms = T.Compose(\n",
    "    [\n",
    "        T.Resize((image_size, image_size)),\n",
    "        T.ToTensor(),\n",
    "        T.Normalize(mean=[0.485, 0.456, 0.406], std=[0.229, 0.224, 0.225])\n",
    "    ]\n",
    ")"
   ]
  },
  {
   "cell_type": "code",
   "execution_count": null,
   "id": "5f35d856-96cf-4805-baa2-db8360f4ca03",
   "metadata": {},
   "outputs": [],
   "source": [
    "for manager in managers:\n",
    "    fold_id, fold_name = manager['fold_id'], manager['fold_name']\n",
    "    print(f\"======== fold-id: {fold_id} / fold-name: {fold_name} ========\")\n",
    "    \n",
    "    # モデルの作成\n",
    "    ckpt_file = f\"{ckpt_path}/{fold_name}_model.pth\"\n",
    "    model, params = my_cnn.build_ResNet50(num_classes, ['layer4'])\n",
    "    model.to(device)\n",
    "    model.load_state_dict(torch.load(ckpt_file))\n",
    "    model.eval()\n",
    "    \n",
    "    # 画像 ラベル ファイル名を個別で取り出す\n",
    "    extract_images = [images[idx] for idx in manager['test']]\n",
    "    extract_labels = [labels[idx] for idx in manager['test']]\n",
    "    extract_fnames = [fnames[idx] for idx in manager['test']]\n",
    "    \n",
    "    # Grad-CAM\n",
    "    cam = pytorch_grad_cam.GradCAM(model=model, target_layers=[model.layer4[-1]])\n",
    "    with torch.enable_grad():\n",
    "        for im, lb, fn in zip(extract_images, extract_labels, extract_fnames):\n",
    "            input_tensor = transforms(im).unsqueeze(0).to(device)\n",
    "            rgb_img = np.array(im.resize((image_size, image_size))) / 255.0\n",
    "            targets = [ClassifierOutputTarget(lb)]\n",
    "\n",
    "            grayscale_cam = cam(input_tensor=input_tensor, targets=targets)\n",
    "            grayscale_cam = grayscale_cam[0,:]\n",
    "            output_cam = show_cam_on_image(rgb_img, grayscale_cam, use_rgb=False)\n",
    "            cv2.imwrite(f\"{output_path}/gradcam_{fn}\", output_cam)\n",
    "    print(\"> Done\")"
   ]
  },
  {
   "cell_type": "code",
   "execution_count": null,
   "id": "c4385c18-3a5b-42cd-91ed-99ca71c92931",
   "metadata": {},
   "outputs": [],
   "source": []
  }
 ],
 "metadata": {
  "kernelspec": {
   "display_name": "Python 3 (ipykernel)",
   "language": "python",
   "name": "python3"
  },
  "language_info": {
   "codemirror_mode": {
    "name": "ipython",
    "version": 3
   },
   "file_extension": ".py",
   "mimetype": "text/x-python",
   "name": "python",
   "nbconvert_exporter": "python",
   "pygments_lexer": "ipython3",
   "version": "3.8.12"
  }
 },
 "nbformat": 4,
 "nbformat_minor": 5
}
