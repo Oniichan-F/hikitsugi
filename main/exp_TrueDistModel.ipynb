{
 "cells": [
  {
   "cell_type": "code",
   "execution_count": null,
   "id": "7e31020f-6e45-41a5-852e-c2734069f44a",
   "metadata": {},
   "outputs": [],
   "source": [
    "%cd .."
   ]
  },
  {
   "cell_type": "markdown",
   "id": "2fd1da1a-0d48-43be-b7e5-e0e160d199f0",
   "metadata": {},
   "source": [
    "# 正解分布モデルの実験\n",
    "正解分布モデルのチェックポイントと学習履歴を生成"
   ]
  },
  {
   "cell_type": "code",
   "execution_count": null,
   "id": "0eea3540-7505-4872-9bc9-03586d7e07bd",
   "metadata": {},
   "outputs": [],
   "source": [
    "from mylib.data import my_dataloader, my_dataset, my_preprocess\n",
    "from mylib.classification import classification\n",
    "from mylib.classification.models import my_cnn, my_model_utils"
   ]
  },
  {
   "cell_type": "code",
   "execution_count": null,
   "id": "633eabad-ad46-4dc6-a2b3-815565e0edb1",
   "metadata": {},
   "outputs": [],
   "source": [
    "import sys\n",
    "import pandas as pd\n",
    "import torch"
   ]
  },
  {
   "cell_type": "code",
   "execution_count": null,
   "id": "19497d7e-e912-4edf-9838-827398265b33",
   "metadata": {},
   "outputs": [],
   "source": [
    "from tqdm import tqdm\n",
    "from functools import partialmethod\n",
    "\n",
    "tqdm.__init__ = partialmethod(tqdm.__init__, disable=True)"
   ]
  },
  {
   "cell_type": "code",
   "execution_count": null,
   "id": "54559d95-9642-4b77-b7db-9bbc7728bf2b",
   "metadata": {},
   "outputs": [],
   "source": [
    "print(f\"Python version: {sys.version}\")\n",
    "print(f\"Torch version:  {torch.__version__}\")\n",
    "print(f\"CUDA available: {torch.cuda.is_available()}\")\n",
    "print(f\"device name:    {torch.cuda.get_device_name()}\")\n",
    "\n",
    "device = torch.device('cuda:0' if torch.cuda.is_available() else 'cpu')"
   ]
  },
  {
   "cell_type": "markdown",
   "id": "5c81ca96-5bef-4519-93fd-f9823b19223c",
   "metadata": {},
   "source": [
    "## I/O"
   ]
  },
  {
   "cell_type": "code",
   "execution_count": null,
   "id": "587e4b58-34a1-46df-af36-6125461c474c",
   "metadata": {},
   "outputs": [],
   "source": [
    "image_path  = \"data/images\"\n",
    "label_path  = \"data/labels/label_legacy.xlsx\"\n",
    "output_path = \"main/outputs/model=TrueDist\"\n",
    "\n",
    "fname_key = \"fname\"\n",
    "label_key = \"pap2_truedist\"\n",
    "fold_key  = \"slide\"\n",
    "\n",
    "name_classes = ['positive','negative']\n",
    "num_classes  = len(name_classes)"
   ]
  },
  {
   "cell_type": "markdown",
   "id": "c862444e-e341-4caf-ab43-eb4471e233d6",
   "metadata": {},
   "source": [
    "## Parameters"
   ]
  },
  {
   "cell_type": "code",
   "execution_count": null,
   "id": "07073cdc-8598-4b41-9587-f23b7cfd2a30",
   "metadata": {},
   "outputs": [],
   "source": [
    "# 実験のパラメータ\n",
    "num_epochs = 300\n",
    "image_size = 224\n",
    "batch_size = 64\n",
    "val_ratio  = 0.1\n",
    "lr = 1e-4\n",
    "\n",
    "# データ拡張\n",
    "transforms = my_preprocess.getStandardTransforms()\n",
    "\n",
    "# 再学習レイヤー\n",
    "training_layers = ['layer2','layer3','layer4','fc']"
   ]
  },
  {
   "cell_type": "markdown",
   "id": "98d4d2ce-aba6-472f-a9c7-1e7ed8913f20",
   "metadata": {},
   "source": [
    "## Data"
   ]
  },
  {
   "cell_type": "code",
   "execution_count": null,
   "id": "6b6feb56-ae88-44e8-84e0-22aef139d5ef",
   "metadata": {},
   "outputs": [],
   "source": [
    "# データのロード\n",
    "_images, _labels, _fnames, _folds = my_dataloader.loadData4(\n",
    "    image_path,\n",
    "    label_path,\n",
    "    fname_key = fname_key,\n",
    "    label_key = label_key,\n",
    "    fold_key  = fold_key,\n",
    "    resize    = image_size,\n",
    "    to_tensor = True\n",
    ")\n",
    "\n",
    "# 不適切なデータを除去\n",
    "images, labels, fnames, folds = [], [], [], []\n",
    "for i in range(len(_images)):\n",
    "    if _labels[i] != -1:\n",
    "        images.append(_images[i])\n",
    "        labels.append(eval(_labels[i]))  # eval()が必要\n",
    "        fnames.append(_fnames[i])\n",
    "        folds.append(_folds[i])\n",
    "        \n",
    "print(len(fnames))"
   ]
  },
  {
   "cell_type": "code",
   "execution_count": null,
   "id": "f55a0dde-9264-41c0-a6f2-3064a35e3086",
   "metadata": {},
   "outputs": [],
   "source": [
    "# データセットの作成\n",
    "dataset = my_dataset.MyDatasetWithoutCount(images, labels, fnames, name_classes)  # 特殊なデータセットを使用\n",
    "\n",
    "# Leave-one-case-outマネージャーを作成\n",
    "managers = my_dataset.getLocoManager(folds)"
   ]
  },
  {
   "cell_type": "markdown",
   "id": "87e86c6d-194a-4cf7-b7b0-0989c4d7a8fb",
   "metadata": {},
   "source": [
    "## Train"
   ]
  },
  {
   "cell_type": "code",
   "execution_count": null,
   "id": "604cdb9d-f53e-475a-8a47-549440004027",
   "metadata": {},
   "outputs": [],
   "source": [
    "for manager in managers:\n",
    "    fold_id, fold_name = manager['fold_id'], manager['fold_name']\n",
    "    print(f\"======== fold-id: {fold_id} / fold-name: {fold_name} ========\")\n",
    "    \n",
    "    # モデルを作成\n",
    "    model, params = my_cnn.build_ResNet50(num_classes=num_classes, training_layers=training_layers)\n",
    "    model.to(device)\n",
    "    model.apply(my_model_utils.resetWeights)\n",
    "    \n",
    "    # データローダーを作成\n",
    "    loader = my_dataset.getLoader(dataset, manager, batch_size, val_ratio=val_ratio)\n",
    "    \n",
    "    # 損失関数\n",
    "    criterion = torch.nn.CrossEntropyLoss()\n",
    "    \n",
    "    # オプティマイザ\n",
    "    optimizer = torch.optim.SGD(params, lr=lr, momentum=0.9)\n",
    "    \n",
    "    # スケジューラ\n",
    "    scheduler = torch.optim.lr_scheduler.CosineAnnealingLR(optimizer, num_epochs)\n",
    "    \n",
    "    # 学習履歴保存用\n",
    "    history = dict()\n",
    "    history['train_loss'], history['valid_loss'], history['train_acc'], history['valid_acc'] = [], [], [], []\n",
    "    \n",
    "    # 学習\n",
    "    best_loss = 1000.0  # 最良のlossを保存\n",
    "    for epoch in range(1, num_epochs+1):\n",
    "        ep_loss, ep_acc = classification.train_distributed(  # 特殊なtrainを使用\n",
    "            device = device,\n",
    "            model  = model,\n",
    "            train_loader = loader['train'],\n",
    "            valid_loader = loader['valid'],\n",
    "            num_classes  = num_classes,\n",
    "            criterion    = criterion,\n",
    "            optimizer    = optimizer,\n",
    "            scheduler    = scheduler,\n",
    "            transforms   = transforms,\n",
    "        )\n",
    "        \n",
    "        # 学習履歴の保存\n",
    "        history['train_loss'].append(ep_loss['train'])\n",
    "        history['valid_loss'].append(ep_loss['valid'])\n",
    "        history['train_acc'].append(ep_acc['train'])\n",
    "        history['valid_acc'].append(ep_acc['valid'])\n",
    "        \n",
    "        # 最良のlossの場合モデルを保存\n",
    "        if ep_loss['valid'] < best_loss:\n",
    "            torch.save(model.state_dict(), f\"{output_path}/tmp.pth\")\n",
    "            best_loss = ep_loss['valid']\n",
    "            \n",
    "        # ログ出力\n",
    "        current_lr = optimizer.param_groups[0]['lr']\n",
    "        log = f\"\\repoch {epoch}/{num_epochs} (lr={current_lr:.6f}): <train> loss={ep_loss['train']:.4f} acc={ep_acc['train']:.4f} <valid> loss={ep_loss['valid']:.4f} acc={ep_acc['valid']:.4f}\"\n",
    "        print(log, end=\"\")\n",
    "        \n",
    "    # チェックポイントを生成\n",
    "    model.load_state_dict(torch.load(f\"{output_path}/tmp.pth\"))\n",
    "    torch.save(model.state_dict(), f\"{output_path}/ckpt/{fold_name}_model.pth\")\n",
    "    \n",
    "    # 学習履歴ファイルを生成\n",
    "    df_history = pd.DataFrame.from_dict(history)\n",
    "    df_history.to_excel(f\"{output_path}/history/{fold_name}_history.xlsx\", index=False)\n",
    "    print()"
   ]
  },
  {
   "cell_type": "code",
   "execution_count": null,
   "id": "32bfe741-2930-4f0a-a61c-817b09664a1b",
   "metadata": {},
   "outputs": [],
   "source": []
  }
 ],
 "metadata": {
  "kernelspec": {
   "display_name": "Python 3 (ipykernel)",
   "language": "python",
   "name": "python3"
  },
  "language_info": {
   "codemirror_mode": {
    "name": "ipython",
    "version": 3
   },
   "file_extension": ".py",
   "mimetype": "text/x-python",
   "name": "python",
   "nbconvert_exporter": "python",
   "pygments_lexer": "ipython3",
   "version": "3.8.12"
  }
 },
 "nbformat": 4,
 "nbformat_minor": 5
}
