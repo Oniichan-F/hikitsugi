{
 "cells": [
  {
   "cell_type": "code",
   "execution_count": null,
   "id": "797162f1-3add-48fd-82b9-de945e0de62b",
   "metadata": {},
   "outputs": [],
   "source": [
    "%cd .."
   ]
  },
  {
   "cell_type": "code",
   "execution_count": null,
   "id": "4e27fb10-7e52-4356-ac8c-993729381a25",
   "metadata": {},
   "outputs": [],
   "source": [
    "import numpy as np\n",
    "import pandas as pd\n",
    "import matplotlib.pyplot as plt\n",
    "from matplotlib import gridspec\n",
    "import matplotlib.animation as animation\n",
    "import networkx as nx\n",
    "from networkx.algorithms import bipartite"
   ]
  },
  {
   "cell_type": "markdown",
   "id": "20e378ae-af96-49fa-a574-17787f91fbf0",
   "metadata": {},
   "source": [
    "# 融合モデルのニューロンの状態を可視化"
   ]
  },
  {
   "cell_type": "markdown",
   "id": "2c1bcd0e-0db4-4de6-8641-0995e8429d34",
   "metadata": {},
   "source": [
    "## MODE：3モデル融合"
   ]
  },
  {
   "cell_type": "code",
   "execution_count": null,
   "id": "a1221f56-8474-4a35-a3c8-f41b3a5ef4d0",
   "metadata": {},
   "outputs": [],
   "source": [
    "inpath  = \"main/outputs/model=HeadFusion/weights\"\n",
    "outpath = \"main/outputs/model=HeadFusion/weights\""
   ]
  },
  {
   "cell_type": "code",
   "execution_count": null,
   "id": "9e5dbf7a-c7d9-4873-b069-add99dc5ca8e",
   "metadata": {},
   "outputs": [],
   "source": [
    "def update3(i):\n",
    "    a = doctorA[i] / maximum\n",
    "    b = doctorB[i] / maximum\n",
    "    c = doctorC[i] / maximum\n",
    "    \n",
    "    ax.cla()\n",
    "    ax.set_title(f\"iteration : {i}\")\n",
    "    ax.bar([\"doctorA\", \"doctorB\", \"doctorC\"], [a, b, c], color=['r','g','b'], align='center')\n",
    "    ax.set_ylim(0, 1.001)\n",
    "    print(f\"\\rprogress {i+1}/{frames}\", end='')"
   ]
  },
  {
   "cell_type": "code",
   "execution_count": null,
   "id": "d57c2cac-dc5d-42dc-ab35-bf505178d119",
   "metadata": {},
   "outputs": [],
   "source": [
    "for slide in [\"C15-0369\", \"C18-2123\", \"C20-1528\", \"C20-5188\", \"C22-1797\", \"C22-3281\"]:\n",
    "    path = f\"{inpath}/{slide}_weights.xlsx\"\n",
    "    print(path)\n",
    "    weights = pd.read_excel(path)\n",
    "    doctorA = weights['doctorA']\n",
    "    doctorB = weights['doctorB']\n",
    "    doctorC = weights['doctorC']\n",
    "\n",
    "    frames  = len(doctorA)\n",
    "    maximum = max(max(doctorA), max(doctorB), max(doctorC))\n",
    "    \n",
    "    fig = plt.figure(figsize=(8,8))\n",
    "    ax = fig.add_subplot(1,1,1)\n",
    "    anim = animation.FuncAnimation(fig, update3, frames, interval=50, repeat=False)\n",
    "    anim.save(f\"{outpath}/{slide}_weights.gif\", writer='pillow')\n",
    "    \n",
    "    a = doctorA[frames-1] / maximum\n",
    "    b = doctorB[frames-1] / maximum\n",
    "    c = doctorC[frames-1] / maximum\n",
    "\n",
    "    plt.figure(figsize=(8,8))\n",
    "    plt.title(f\"iteration : {frames}\")\n",
    "    plt.bar([\"doctorA\", \"doctorB\", \"doctorC\"], [a, b, c], color=['r','g','b'], align='center')\n",
    "    plt.ylim(0, 1.001)\n",
    "    plt.savefig(f\"{outpath}/{slide}_weights.png\")\n",
    "    print()\n",
    "print(\">> end\")"
   ]
  },
  {
   "cell_type": "code",
   "execution_count": null,
   "id": "a1f3c8d3-5cf0-4e29-bf97-b160d03d8a2a",
   "metadata": {},
   "outputs": [],
   "source": []
  }
 ],
 "metadata": {
  "kernelspec": {
   "display_name": "Python 3 (ipykernel)",
   "language": "python",
   "name": "python3"
  },
  "language_info": {
   "codemirror_mode": {
    "name": "ipython",
    "version": 3
   },
   "file_extension": ".py",
   "mimetype": "text/x-python",
   "name": "python",
   "nbconvert_exporter": "python",
   "pygments_lexer": "ipython3",
   "version": "3.8.12"
  }
 },
 "nbformat": 4,
 "nbformat_minor": 5
}
