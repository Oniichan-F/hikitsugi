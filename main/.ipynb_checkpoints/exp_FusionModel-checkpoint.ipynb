{
 "cells": [
  {
   "cell_type": "code",
   "execution_count": null,
   "id": "d08df6aa-31aa-4dfd-b91a-3b801efaa062",
   "metadata": {},
   "outputs": [],
   "source": [
    "%cd .."
   ]
  },
  {
   "cell_type": "markdown",
   "id": "3097dea0-a511-453d-b88e-a6ff84bfd111",
   "metadata": {},
   "source": [
    "# モデル融合の実験\n",
    "HeadFusion, LogitFusionのチェックポイントと学習履歴を生成"
   ]
  },
  {
   "cell_type": "code",
   "execution_count": null,
   "id": "787f98ff-bfeb-4016-a287-bc7d7ed0eb53",
   "metadata": {},
   "outputs": [],
   "source": [
    "from mylib.data import my_dataloader, my_dataset, my_preprocess\n",
    "from mylib.classification import classification\n",
    "from mylib.classification.models import my_fusion_model, my_model_utils\n",
    "from mylib.misc import my_history"
   ]
  },
  {
   "cell_type": "code",
   "execution_count": null,
   "id": "5dd325ea-151e-4a83-9bf7-7d81329c24c9",
   "metadata": {},
   "outputs": [],
   "source": [
    "import sys\n",
    "import pandas as pd\n",
    "import torch"
   ]
  },
  {
   "cell_type": "code",
   "execution_count": null,
   "id": "9d90b548-f5ce-45ca-a7a3-37e8cde978ad",
   "metadata": {},
   "outputs": [],
   "source": [
    "from tqdm import tqdm\n",
    "from functools import partialmethod\n",
    "\n",
    "tqdm.__init__ = partialmethod(tqdm.__init__, disable=True)"
   ]
  },
  {
   "cell_type": "code",
   "execution_count": null,
   "id": "4d07f39f-560c-4b90-932b-063579ddee43",
   "metadata": {},
   "outputs": [],
   "source": [
    "print(f\"Python version: {sys.version}\")\n",
    "print(f\"Torch version:  {torch.__version__}\")\n",
    "print(f\"CUDA available: {torch.cuda.is_available()}\")\n",
    "print(f\"device name:    {torch.cuda.get_device_name()}\")\n",
    "\n",
    "device = torch.device('cuda:0' if torch.cuda.is_available() else 'cpu')"
   ]
  },
  {
   "cell_type": "markdown",
   "id": "28074efa-ddef-4130-b80d-254f1ef45d58",
   "metadata": {},
   "source": [
    "## I/O"
   ]
  },
  {
   "cell_type": "code",
   "execution_count": null,
   "id": "a95cee23-af64-49f6-9af4-7ba09e0cd8f4",
   "metadata": {},
   "outputs": [],
   "source": [
    "image_path  = \"data/images\"\n",
    "label_path  = \"data/labels/label_legacy.xlsx\"\n",
    "output_path = \"main/outputs/model=HeadFusion\"\n",
    "\n",
    "# ベースモデルのチェックポイントの入力パス\n",
    "ckpt_inpath = [\"main/outputs/model=doctorA/ckpt\",\n",
    "               \"main/outputs/model=doctorB/ckpt\",\n",
    "               \"main/outputs/model=doctorC/ckpt\"]\n",
    "\n",
    "fname_key = \"fname\"\n",
    "label_key = \"pap2_groundtruth\"\n",
    "fold_key  = \"slide\"\n",
    "\n",
    "name_classes = ['positive','negative']\n",
    "num_classes  = len(name_classes)"
   ]
  },
  {
   "cell_type": "markdown",
   "id": "a9761654-e6a2-43f3-b599-7dc78bf57b2e",
   "metadata": {},
   "source": [
    "## Parameters"
   ]
  },
  {
   "cell_type": "code",
   "execution_count": null,
   "id": "63370b19-9998-4dff-90f3-59eb579e4a27",
   "metadata": {},
   "outputs": [],
   "source": [
    "# 実験のパラメータ\n",
    "num_epochs = 300\n",
    "image_size = 224\n",
    "batch_size = 64\n",
    "val_ratio  = 0.1\n",
    "lr = 1e-4\n",
    "\n",
    "# データ拡張\n",
    "transforms = my_preprocess.getStandardTransforms()\n",
    "\n",
    "# 再学習レイヤー\n",
    "training_layers = ['fc','classifier','fusion','layer4']"
   ]
  },
  {
   "cell_type": "markdown",
   "id": "c58ebf11-b224-4f0f-94e3-fb1be878ce9a",
   "metadata": {},
   "source": [
    "## Data"
   ]
  },
  {
   "cell_type": "code",
   "execution_count": null,
   "id": "56182de8-2dd7-4047-b31c-8edb217f9c03",
   "metadata": {},
   "outputs": [],
   "source": [
    "# データのロード\n",
    "_images, _labels, _fnames, _folds = my_dataloader.loadData4(\n",
    "    image_path,\n",
    "    label_path,\n",
    "    fname_key = fname_key,\n",
    "    label_key = label_key,\n",
    "    fold_key  = fold_key,\n",
    "    resize    = image_size,\n",
    "    to_tensor = True\n",
    ")\n",
    "print(len(_fnames))\n",
    "\n",
    "\n",
    "# 不適切なデータを除去\n",
    "images, labels, fnames, folds = [], [], [], []\n",
    "for i in range(len(_images)):\n",
    "    if _labels[i] != -1:\n",
    "        images.append(_images[i])\n",
    "        labels.append(_labels[i])\n",
    "        fnames.append(_fnames[i])\n",
    "        folds.append(_folds[i])"
   ]
  },
  {
   "cell_type": "code",
   "execution_count": null,
   "id": "35df0f77-345f-4dd3-9176-688f45712c9a",
   "metadata": {},
   "outputs": [],
   "source": [
    "# データセットの作成\n",
    "dataset = my_dataset.MyDataset(images, labels, fnames, name_classes)\n",
    "\n",
    "# Leave-one-case-outマネージャーを作成\n",
    "managers = my_dataset.getLocoManager(folds)"
   ]
  },
  {
   "cell_type": "markdown",
   "id": "b6b65a6f-adcd-4882-839a-ad50485e8a66",
   "metadata": {},
   "source": [
    "## Train"
   ]
  },
  {
   "cell_type": "code",
   "execution_count": null,
   "id": "e0f4af4d-d303-4d38-9fc0-679de90ffea5",
   "metadata": {},
   "outputs": [],
   "source": [
    "for manager in managers:\n",
    "    fold_id, fold_name = manager['fold_id'], manager['fold_name']\n",
    "    print(f\"======== fold-id: {fold_id} / fold-name: {fold_name} ========\")\n",
    "    \n",
    "    # モデルを作成\n",
    "    ckpts = dict(\n",
    "        model_A = f\"{ckpt_inpath[0]}/{fold_name}_model.pth\",\n",
    "        model_B = f\"{ckpt_inpath[1]}/{fold_name}_model.pth\",\n",
    "        model_C = f\"{ckpt_inpath[2]}/{fold_name}_model.pth\",\n",
    "    )\n",
    "    \n",
    "    model = my_fusion_model.LinearHeadFusionModel(num_classes, pretrained=ckpts)\n",
    "    model.to(device)\n",
    "    params = my_model_utils.setTrainingLayers(model, training_layers)\n",
    "    \n",
    "    # データローダーを作成\n",
    "    loader = my_dataset.getLoader(dataset, manager, batch_size, val_ratio=val_ratio)\n",
    "    \n",
    "    # 損失関数\n",
    "    criterion = torch.nn.CrossEntropyLoss()\n",
    "    \n",
    "    # オプティマイザ\n",
    "    optimizer = torch.optim.SGD(params, lr=lr, momentum=0.9)\n",
    "    \n",
    "    # スケジューラ\n",
    "    scheduler = torch.optim.lr_scheduler.CosineAnnealingLR(optimizer, num_epochs)\n",
    "    \n",
    "    # 学習履歴保存用\n",
    "    history = dict()\n",
    "    history['train_loss'], history['valid_loss'], history['train_acc'], history['valid_acc'] = [], [], [], []\n",
    "    \n",
    "    # 重み保存用\n",
    "    weights = dict()\n",
    "    weights['doctorA'], weights['doctorB'], weights['doctorC'] = [], [], []\n",
    "    \n",
    "    # 学習\n",
    "    best_loss = 1000.0  # 最良のlossを保存\n",
    "    for epoch in range(1, num_epochs+1):\n",
    "        ep_loss, ep_acc = classification.train(\n",
    "            device = device,\n",
    "            model  = model,\n",
    "            train_loader = loader['train'],\n",
    "            valid_loader = loader['valid'],\n",
    "            num_classes  = num_classes,\n",
    "            criterion    = criterion,\n",
    "            optimizer    = optimizer,\n",
    "            scheduler    = scheduler,\n",
    "            transforms   = transforms,\n",
    "        )\n",
    "        \n",
    "        # 学習履歴の保存\n",
    "        history['train_loss'].append(ep_loss['train'])\n",
    "        history['valid_loss'].append(ep_loss['valid'])\n",
    "        history['train_acc'].append(ep_acc['train'])\n",
    "        history['valid_acc'].append(ep_acc['valid'])\n",
    "        \n",
    "        # 最良のlossの場合モデルを保存\n",
    "        if ep_loss['valid'] < best_loss:\n",
    "            torch.save(model.state_dict(), f\"{output_path}/tmp.pth\")\n",
    "            best_loss = ep_loss['valid']\n",
    "            \n",
    "        # ログ出力\n",
    "        current_lr = optimizer.param_groups[0]['lr']\n",
    "        log = f\"\\repoch {epoch}/{num_epochs} (lr={current_lr:.6f}): <train> loss={ep_loss['train']:.4f} acc={ep_acc['train']:.4f} <valid> loss={ep_loss['valid']:.4f} acc={ep_acc['valid']:.4f}\"\n",
    "        print(log, end=\"\")\n",
    "        \n",
    "        # 重みを保存\n",
    "        w = model.state_dict()['classifier.weight'].cpu().tolist()\n",
    "        w_sum = 0\n",
    "        for i in range(0, 2):  # LogitFusionの場合，0～2048\n",
    "            for j in range(0, 2):  # LogitFusionの場合，0～2048\n",
    "                w_sum += abs(w[i][j])\n",
    "        weights['doctorA'].append(w_sum)\n",
    "\n",
    "        w_sum = 0\n",
    "        for i in range(0, 2):  # LogitFusionの場合，0～2048\n",
    "            for j in range(2, 4):  # LogitFusionの場合，2048～4096\n",
    "                w_sum += abs(w[i][j])\n",
    "        weights['doctorB'].append(w_sum)\n",
    "\n",
    "        w_sum = 0\n",
    "        for i in range(0, 2):  # LogitFusionの場合，0～2048\n",
    "            for j in range(4, 6):  # LogitFusionの場合，4096～6144\n",
    "                w_sum += abs(w[i][j])\n",
    "        weights['doctorC'].append(w_sum)\n",
    "        \n",
    "    # チェックポイントを生成\n",
    "    model.load_state_dict(torch.load(f\"{output_path}/tmp.pth\"))\n",
    "    torch.save(model.state_dict(), f\"{output_path}/ckpt/{fold_name}_model.pth\")\n",
    "    \n",
    "    # 学習履歴ファイルを生成\n",
    "    df_history = pd.DataFrame.from_dict(history)\n",
    "    df_history.to_excel(f\"{output_path}/history/{fold_name}_history.xlsx\", index=False)\n",
    "    \n",
    "    # 重みのファイルを生成\n",
    "    my_history.plotHistory(history)\n",
    "    df_weights = pd.DataFrame.from_dict(weights)\n",
    "    df_weights.to_excel(f\"{output_path}/weights/{fold_name}_weights.xlsx\", index=False)\n",
    "    \n",
    "    print()"
   ]
  },
  {
   "cell_type": "code",
   "execution_count": null,
   "id": "0d3c20cb-cc09-4485-9043-6fcac8a64efb",
   "metadata": {},
   "outputs": [],
   "source": []
  }
 ],
 "metadata": {
  "kernelspec": {
   "display_name": "Python 3 (ipykernel)",
   "language": "python",
   "name": "python3"
  },
  "language_info": {
   "codemirror_mode": {
    "name": "ipython",
    "version": 3
   },
   "file_extension": ".py",
   "mimetype": "text/x-python",
   "name": "python",
   "nbconvert_exporter": "python",
   "pygments_lexer": "ipython3",
   "version": "3.8.12"
  }
 },
 "nbformat": 4,
 "nbformat_minor": 5
}
