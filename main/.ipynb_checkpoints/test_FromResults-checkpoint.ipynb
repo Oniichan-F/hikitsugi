{
 "cells": [
  {
   "cell_type": "code",
   "execution_count": null,
   "id": "466bba85-c084-4e63-b14a-1c51d0979f30",
   "metadata": {},
   "outputs": [],
   "source": [
    "%cd .."
   ]
  },
  {
   "cell_type": "markdown",
   "id": "e00d7ffd-be60-4769-ad93-2881a06bf242",
   "metadata": {},
   "source": [
    "# Tester\n",
    "resultsからテストする  \n",
    "予測融合はこれでテスト"
   ]
  },
  {
   "cell_type": "code",
   "execution_count": null,
   "id": "1be82277-c193-4910-8024-c8cc92c6b228",
   "metadata": {},
   "outputs": [],
   "source": [
    "from mylib.data import my_dataloader, my_dataset\n",
    "from mylib.classification import my_cmatrix, my_roc"
   ]
  },
  {
   "cell_type": "code",
   "execution_count": null,
   "id": "c2258a37-fd6f-4d37-b5b6-30b2abc4cfe6",
   "metadata": {},
   "outputs": [],
   "source": [
    "import sys\n",
    "import pandas as pd\n",
    "import torch"
   ]
  },
  {
   "cell_type": "code",
   "execution_count": null,
   "id": "b735cd71-d4c5-4315-800f-c9331fbe6df5",
   "metadata": {},
   "outputs": [],
   "source": [
    "print(f\"Python version: {sys.version}\")\n",
    "print(f\"Torch version:  {torch.__version__}\")\n",
    "print(f\"CUDA available: {torch.cuda.is_available()}\")\n",
    "print(f\"device name:    {torch.cuda.get_device_name()}\")\n",
    "\n",
    "device = torch.device('cuda:0' if torch.cuda.is_available() else 'cpu')"
   ]
  },
  {
   "cell_type": "markdown",
   "id": "8bc7f06d-c6eb-4d6d-a633-b66256f4315c",
   "metadata": {},
   "source": [
    "## I/O"
   ]
  },
  {
   "cell_type": "code",
   "execution_count": null,
   "id": "4f4cea4c-c9f2-4987-a209-0f79471a9d06",
   "metadata": {},
   "outputs": [],
   "source": [
    "image_path  = \"data/images\"\n",
    "label_path  = \"data/labels/label_legacy.xlsx\"\n",
    "results_inpath = \"main/outputs/ProbFusion/results\"  # resultsのパス\n",
    "output_path = \"main/outputs/ProbFusion\"\n",
    "\n",
    "fname_key = \"fname\"\n",
    "label_key = \"pap2_groundtruth\"  # テストラベル\n",
    "fold_key  = \"slide\"\n",
    "\n",
    "name_classes = ['positive','negative']\n",
    "num_classes  = len(name_classes)"
   ]
  },
  {
   "cell_type": "markdown",
   "id": "92ef61f6-6ce5-4270-8a45-858c52d20a2a",
   "metadata": {},
   "source": [
    "## Parameters"
   ]
  },
  {
   "cell_type": "code",
   "execution_count": null,
   "id": "b0ace2c2-0f6e-43c2-9564-4c99b4e82142",
   "metadata": {},
   "outputs": [],
   "source": [
    "image_size = 224\n",
    "batch_size = 64\n",
    "val_ratio  = 0.1"
   ]
  },
  {
   "cell_type": "markdown",
   "id": "2cab2449-df6c-4b02-bba7-4352a8f08f2b",
   "metadata": {},
   "source": [
    "## Data"
   ]
  },
  {
   "cell_type": "code",
   "execution_count": null,
   "id": "0e2199e5-433f-4a6f-a29c-0d0cf9167820",
   "metadata": {},
   "outputs": [],
   "source": [
    "# データのロード\n",
    "_images, _labels, _fnames, _folds = my_dataloader.loadData4(\n",
    "    image_path,\n",
    "    label_path,\n",
    "    fname_key = fname_key,\n",
    "    label_key = label_key,\n",
    "    fold_key  = fold_key,\n",
    "    resize    = image_size,\n",
    "    to_tensor = True\n",
    ")\n",
    "print(len(_fnames))\n",
    "\n",
    "\n",
    "# 不適切なデータを除去\n",
    "images, labels, fnames, folds = [], [], [], []\n",
    "for i in range(len(_images)):\n",
    "    if _labels[i] != -1:\n",
    "        images.append(_images[i])\n",
    "        labels.append(_labels[i])\n",
    "        fnames.append(_fnames[i])\n",
    "        folds.append(_folds[i])"
   ]
  },
  {
   "cell_type": "code",
   "execution_count": null,
   "id": "338d2e8d-bf3c-4fd4-b393-9e9e1081d113",
   "metadata": {},
   "outputs": [],
   "source": [
    "# データセットの作成\n",
    "dataset = my_dataset.MyDataset(images, labels, fnames, name_classes)\n",
    "\n",
    "# Leave-one-case-outマネージャーを作成\n",
    "managers = my_dataset.getLocoManager(folds)"
   ]
  },
  {
   "cell_type": "markdown",
   "id": "7af4c1b1-16d0-40aa-b09b-499d8ef5d8fe",
   "metadata": {},
   "source": [
    "## Test"
   ]
  },
  {
   "cell_type": "code",
   "execution_count": null,
   "id": "1970ca1e-2423-4cf6-8c2d-10e9c4ec38e6",
   "metadata": {},
   "outputs": [],
   "source": [
    "for manager in managers:\n",
    "    fold_id, fold_name = manager['fold_id'], manager['fold_name']\n",
    "    print(f\"======== fold-id: {fold_id} / fold-name: {fold_name} ========\")\n",
    "\n",
    "    # resultsを読み込む\n",
    "    results = pd.read_excel(f\"{results_inpath}/{fold_name}_results.xlsx\")\n",
    "    \n",
    "    # 予測結果の解析\n",
    "    f, t, p, n = results['fname'], results['true'], results['positive'], results['negative']\n",
    "    \n",
    "    # 確信度の分布\n",
    "    my_roc.plotDistributionHistogram(t, p, save_string=f\"{output_path}/prob_dist/{fold_name}_probdist.png\")\n",
    "    \n",
    "    # ROC\n",
    "    thresh, fpr, tpr = my_cmatrix.get_youden_index(t, n)\n",
    "    my_roc.plotROCwithYoudenPoint(t, n, name_classes, fpr, tpr, save_string=f\"{output_path}/roc/{fold_name}_roc.png\")\n",
    "    \n",
    "    # 混同行列\n",
    "    my_cmatrix.plotConfusionMatrix(t, p, name_classes, t=thresh, save_string=f\"{output_path}/cmatrix/{fold_name}_cmatrix.png\")\n",
    "    \n",
    "    # Youden-Indexのカットオフ値による予測\n",
    "    preds_cutoff = [0 if thresh <= x else 1 for x in p]\n",
    "    youden_pred = {\"fname\": f,\"true\": t,\"pred\": preds_cutoff}\n",
    "    df_youden_pred = pd.DataFrame.from_dict(youden_pred)\n",
    "    df_youden_pred.to_excel(f\"{output_path}/preds/{fold_name}_youden-preds.xlsx\", index=False)\n",
    "    print()"
   ]
  },
  {
   "cell_type": "code",
   "execution_count": null,
   "id": "aa7c1a74-6e1c-4001-bcce-a8db49932ac7",
   "metadata": {},
   "outputs": [],
   "source": []
  }
 ],
 "metadata": {
  "kernelspec": {
   "display_name": "Python 3 (ipykernel)",
   "language": "python",
   "name": "python3"
  },
  "language_info": {
   "codemirror_mode": {
    "name": "ipython",
    "version": 3
   },
   "file_extension": ".py",
   "mimetype": "text/x-python",
   "name": "python",
   "nbconvert_exporter": "python",
   "pygments_lexer": "ipython3",
   "version": "3.8.12"
  }
 },
 "nbformat": 4,
 "nbformat_minor": 5
}
