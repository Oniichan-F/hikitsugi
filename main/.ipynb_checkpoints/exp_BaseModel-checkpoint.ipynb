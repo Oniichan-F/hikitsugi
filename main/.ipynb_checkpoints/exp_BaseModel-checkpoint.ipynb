{
 "cells": [
  {
   "cell_type": "code",
   "execution_count": null,
   "id": "79b280eb-eba9-4270-9b7f-2685e260e1a5",
   "metadata": {},
   "outputs": [],
   "source": [
    "%cd .."
   ]
  },
  {
   "cell_type": "markdown",
   "id": "ac3fc9a3-f036-4ccc-be63-0233b94d33bc",
   "metadata": {},
   "source": [
    "# ベースモデルの実験\n",
    "医師Aモデル，医師Bモデル，医師Cモデル，GTモデル，多数決モデルのチェックポイントと学習履歴を生成"
   ]
  },
  {
   "cell_type": "code",
   "execution_count": null,
   "id": "e814c5c6-efca-4a96-86ac-141a6441b8aa",
   "metadata": {},
   "outputs": [],
   "source": [
    "from mylib.data import my_dataloader, my_dataset, my_preprocess\n",
    "from mylib.classification import classification\n",
    "from mylib.classification.models import my_cnn, my_model_utils"
   ]
  },
  {
   "cell_type": "code",
   "execution_count": null,
   "id": "16a53c54-8519-4a0f-8472-64c27e1b9c99",
   "metadata": {},
   "outputs": [],
   "source": [
    "import sys\n",
    "import pandas as pd\n",
    "import torch"
   ]
  },
  {
   "cell_type": "code",
   "execution_count": null,
   "id": "d5ef8513-7205-40d8-af52-15bb533af9d7",
   "metadata": {},
   "outputs": [],
   "source": [
    "from tqdm import tqdm\n",
    "from functools import partialmethod\n",
    "\n",
    "tqdm.__init__ = partialmethod(tqdm.__init__, disable=True)"
   ]
  },
  {
   "cell_type": "code",
   "execution_count": null,
   "id": "3215159b-f993-4c4a-b2ca-8dd81558563a",
   "metadata": {},
   "outputs": [],
   "source": [
    "print(f\"Python version: {sys.version}\")\n",
    "print(f\"Torch version:  {torch.__version__}\")\n",
    "print(f\"CUDA available: {torch.cuda.is_available()}\")\n",
    "print(f\"device name:    {torch.cuda.get_device_name()}\")\n",
    "\n",
    "device = torch.device('cuda:0' if torch.cuda.is_available() else 'cpu')"
   ]
  },
  {
   "cell_type": "markdown",
   "id": "7280b363-c821-4545-abee-ced1cd6820cc",
   "metadata": {},
   "source": [
    "## I/O"
   ]
  },
  {
   "cell_type": "code",
   "execution_count": null,
   "id": "25cbf7ac-3150-43c8-a68e-c8278398c307",
   "metadata": {},
   "outputs": [],
   "source": [
    "image_path  = \"data/images\"\n",
    "label_path  = \"data/labels/label_legacy.xlsx\"\n",
    "output_path = \"main/outputs/model=doctorA/\"\n",
    "\n",
    "fname_key = \"fname\"\n",
    "label_key = \"pap2_doctorA\"\n",
    "fold_key  = \"slide\"\n",
    "\n",
    "name_classes = ['positive','negative']\n",
    "num_classes  = len(name_classes)"
   ]
  },
  {
   "cell_type": "markdown",
   "id": "a1697c66-fc9c-4fa3-8282-712b6bbd277b",
   "metadata": {},
   "source": [
    "## Parameters"
   ]
  },
  {
   "cell_type": "code",
   "execution_count": null,
   "id": "4220c1ed-cbf6-4ba0-ae36-61c1537b5229",
   "metadata": {},
   "outputs": [],
   "source": [
    "# 実験のパラメータ\n",
    "num_epochs = 300\n",
    "image_size = 224\n",
    "batch_size = 64\n",
    "val_ratio  = 0.1\n",
    "lr = 1e-4\n",
    "\n",
    "# データ拡張\n",
    "transforms = my_preprocess.getStandardTransforms()\n",
    "\n",
    "# 再学習レイヤー\n",
    "training_layers = ['layer2','layer3','layer4','fc']"
   ]
  },
  {
   "cell_type": "markdown",
   "id": "e9e45fa0-ae18-42d3-a75c-e54e1670f50d",
   "metadata": {},
   "source": [
    "## Data"
   ]
  },
  {
   "cell_type": "code",
   "execution_count": null,
   "id": "2fcb9e01-dd62-4e62-9a47-860fb1eb1b43",
   "metadata": {},
   "outputs": [],
   "source": [
    "# データのロード\n",
    "_images, _labels, _fnames, _folds = my_dataloader.loadData4(\n",
    "    image_path,\n",
    "    label_path,\n",
    "    fname_key = fname_key,\n",
    "    label_key = label_key,\n",
    "    fold_key  = fold_key,\n",
    "    resize    = image_size,\n",
    "    to_tensor = True\n",
    ")\n",
    "print(len(_fnames))\n",
    "\n",
    "\n",
    "# 不適切なデータを除去\n",
    "images, labels, fnames, folds = [], [], [], []\n",
    "for i in range(len(_images)):\n",
    "    if _labels[i] != -1:\n",
    "        images.append(_images[i])\n",
    "        labels.append(_labels[i])\n",
    "        fnames.append(_fnames[i])\n",
    "        folds.append(_folds[i])"
   ]
  },
  {
   "cell_type": "code",
   "execution_count": null,
   "id": "1c80004c-c23d-459d-afd7-dad619c0f514",
   "metadata": {},
   "outputs": [],
   "source": [
    "# データセットの作成\n",
    "dataset = my_dataset.MyDataset(images, labels, fnames, name_classes)\n",
    "\n",
    "# Leave-one-case-outマネージャーを作成\n",
    "managers = my_dataset.getLocoManager(folds)"
   ]
  },
  {
   "cell_type": "markdown",
   "id": "d6876362-f4a7-4e2d-9feb-fb75e00b9548",
   "metadata": {},
   "source": [
    "## Train"
   ]
  },
  {
   "cell_type": "code",
   "execution_count": null,
   "id": "df9ca227-a7d9-43db-8aef-d6312e6af9f8",
   "metadata": {},
   "outputs": [],
   "source": [
    "for manager in managers:\n",
    "    fold_id, fold_name = manager['fold_id'], manager['fold_name']\n",
    "    print(f\"======== fold-id: {fold_id} / fold-name: {fold_name} ========\")\n",
    "    \n",
    "    # モデルを作成\n",
    "    model, params = my_cnn.build_ResNet50(num_classes=num_classes, training_layers=training_layers)\n",
    "    model.to(device)\n",
    "    model.apply(my_model_utils.resetWeights)\n",
    "    \n",
    "    # データローダーを作成\n",
    "    loader = my_dataset.getLoader(dataset, manager, batch_size, val_ratio=val_ratio)\n",
    "    \n",
    "    # 損失関数\n",
    "    criterion = torch.nn.CrossEntropyLoss()\n",
    "    \n",
    "    # オプティマイザ\n",
    "    optimizer = torch.optim.SGD(params, lr=lr, momentum=0.9)\n",
    "    \n",
    "    # スケジューラ\n",
    "    scheduler = torch.optim.lr_scheduler.CosineAnnealingLR(optimizer, num_epochs)\n",
    "    \n",
    "    # 学習履歴保存用\n",
    "    history = dict()\n",
    "    history['train_loss'], history['valid_loss'], history['train_acc'], history['valid_acc'] = [], [], [], []\n",
    "    \n",
    "    # 学習\n",
    "    best_loss = 1000.0  # 最良のlossを保存\n",
    "    for epoch in range(1, num_epochs+1):\n",
    "        ep_loss, ep_acc = classification.train(\n",
    "            device = device,\n",
    "            model  = model,\n",
    "            train_loader = loader['train'],\n",
    "            valid_loader = loader['valid'],\n",
    "            num_classes  = num_classes,\n",
    "            criterion    = criterion,\n",
    "            optimizer    = optimizer,\n",
    "            scheduler    = scheduler,\n",
    "            transforms   = transforms,\n",
    "        )\n",
    "        \n",
    "        # 学習履歴の保存\n",
    "        history['train_loss'].append(ep_loss['train'])\n",
    "        history['valid_loss'].append(ep_loss['valid'])\n",
    "        history['train_acc'].append(ep_acc['train'])\n",
    "        history['valid_acc'].append(ep_acc['valid'])\n",
    "        \n",
    "        # 最良のlossの場合モデルを保存\n",
    "        if ep_loss['valid'] < best_loss:\n",
    "            torch.save(model.state_dict(), f\"{output_path}/tmp.pth\")\n",
    "            best_loss = ep_loss['valid']\n",
    "            \n",
    "        # ログ出力\n",
    "        current_lr = optimizer.param_groups[0]['lr']\n",
    "        log = f\"\\repoch {epoch}/{num_epochs} (lr={current_lr:.6f}): <train> loss={ep_loss['train']:.4f} acc={ep_acc['train']:.4f} <valid> loss={ep_loss['valid']:.4f} acc={ep_acc['valid']:.4f}\"\n",
    "        print(log, end=\"\")\n",
    "        \n",
    "    # チェックポイントを生成\n",
    "    model.load_state_dict(torch.load(f\"{output_path}/tmp.pth\"))\n",
    "    torch.save(model.state_dict(), f\"{output_path}/ckpt/{fold_name}_model.pth\")\n",
    "    \n",
    "    # 学習履歴ファイルを生成\n",
    "    df_history = pd.DataFrame.from_dict(history)\n",
    "    df_history.to_excel(f\"{output_path}/history/{fold_name}_history.xlsx\", index=False)\n",
    "    print()"
   ]
  },
  {
   "cell_type": "code",
   "execution_count": null,
   "id": "32c91d77-b549-423d-885a-dea23d081355",
   "metadata": {},
   "outputs": [],
   "source": []
  }
 ],
 "metadata": {
  "kernelspec": {
   "display_name": "Python 3 (ipykernel)",
   "language": "python",
   "name": "python3"
  },
  "language_info": {
   "codemirror_mode": {
    "name": "ipython",
    "version": 3
   },
   "file_extension": ".py",
   "mimetype": "text/x-python",
   "name": "python",
   "nbconvert_exporter": "python",
   "pygments_lexer": "ipython3",
   "version": "3.8.12"
  }
 },
 "nbformat": 4,
 "nbformat_minor": 5
}
