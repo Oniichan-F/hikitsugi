{
 "cells": [
  {
   "cell_type": "markdown",
   "id": "66d23e43-ccb5-4929-b770-42c79b8bb8b8",
   "metadata": {},
   "source": [
    "# Test"
   ]
  },
  {
   "cell_type": "code",
   "execution_count": null,
   "id": "d06377fc-6468-40d9-b05f-d5ca5181e723",
   "metadata": {},
   "outputs": [],
   "source": [
    "from mylib.data import my_dataloader, my_dataset\n",
    "from mylib.classification import classification, my_cmatrix, my_roc, my_pr\n",
    "from mylib.classification.models import my_cnn"
   ]
  },
  {
   "cell_type": "code",
   "execution_count": null,
   "id": "858f7e68-89ec-4708-829d-430cd72aeb7f",
   "metadata": {},
   "outputs": [],
   "source": [
    "import sys\n",
    "import pandas as pd\n",
    "import torch"
   ]
  },
  {
   "cell_type": "code",
   "execution_count": null,
   "id": "688c7dc9-67a5-4f0c-a2df-914a7e950fc3",
   "metadata": {},
   "outputs": [],
   "source": [
    "from tqdm import tqdm\n",
    "from functools import partialmethod\n",
    "\n",
    "tqdm.__init__ = partialmethod(tqdm.__init__, disable=True)"
   ]
  },
  {
   "cell_type": "code",
   "execution_count": null,
   "id": "71204f17-81ba-4197-9a48-c54e614ebebc",
   "metadata": {},
   "outputs": [],
   "source": [
    "print(f\"Python version: {sys.version}\")\n",
    "print(f\"Torch version:  {torch.__version__}\")\n",
    "print(f\"CUDA available: {torch.cuda.is_available()}\")\n",
    "print(f\"device name:    {torch.cuda.get_device_name()}\")\n",
    "\n",
    "device = torch.device('cuda:0' if torch.cuda.is_available() else 'cpu')"
   ]
  },
  {
   "cell_type": "markdown",
   "id": "f45b1cd8-06dd-48da-8e72-dfcaccbbd3a5",
   "metadata": {},
   "source": [
    "## I/O"
   ]
  },
  {
   "cell_type": "code",
   "execution_count": null,
   "id": "e75d7541-f9ee-467d-93c6-338f639e9b3a",
   "metadata": {},
   "outputs": [],
   "source": [
    "image_path  = \"data/images\"\n",
    "label_path  = \"data/labels/label_v2.xlsx\"\n",
    "ckpt_path   = \"outputs/ckpt\"\n",
    "output_path = \"outputs\"\n",
    "\n",
    "fname_key = \"fname\"\n",
    "label_key = \"pap2_groundtruth\"\n",
    "fold_key  = \"slide\"\n",
    "\n",
    "name_classes = ['positive','negative']\n",
    "num_classes  = len(name_classes)"
   ]
  },
  {
   "cell_type": "markdown",
   "id": "5f367461-2c47-4b25-8994-fbdc1fa46780",
   "metadata": {},
   "source": [
    "## Parameters"
   ]
  },
  {
   "cell_type": "code",
   "execution_count": null,
   "id": "dd1e4d4d-eaa1-4c93-a5ca-37c44c087db5",
   "metadata": {},
   "outputs": [],
   "source": [
    "image_size = 224\n",
    "batch_size = 16"
   ]
  },
  {
   "cell_type": "markdown",
   "id": "2a466f07-75b8-45d7-8a6b-ad5989d7f6ef",
   "metadata": {},
   "source": [
    "## Data"
   ]
  },
  {
   "cell_type": "code",
   "execution_count": null,
   "id": "2d58fee9-aebb-4014-ad1d-649c5b44ddfe",
   "metadata": {},
   "outputs": [],
   "source": [
    "# データのロード\n",
    "_images, _labels, _fnames, _folds = my_dataloader.loadData4(\n",
    "    image_path,\n",
    "    label_path,\n",
    "    fname_key = fname_key,\n",
    "    label_key = label_key,\n",
    "    fold_key  = fold_key,\n",
    "    resize    = image_size,\n",
    "    to_tensor = True\n",
    ")\n",
    "print(len(_fnames))\n",
    "\n",
    "\n",
    "# 不適切なデータを除去\n",
    "# 不適切なデータ：label=-1\n",
    "images, labels, fnames, folds = [], [], [], []\n",
    "for i in range(len(_images)):\n",
    "    if _labels[i] != -1:\n",
    "        images.append(_images[i])\n",
    "        labels.append(_labels[i])\n",
    "        fnames.append(_fnames[i])\n",
    "        folds.append(_folds[i])"
   ]
  },
  {
   "cell_type": "code",
   "execution_count": null,
   "id": "fd69845b-76a6-4d33-aa84-8a5c885d62b9",
   "metadata": {},
   "outputs": [],
   "source": [
    "# データセットの作成\n",
    "dataset = my_dataset.MyDataset(images, labels, fnames, name_classes)\n",
    "\n",
    "# Leave-one-case-outマネージャーを作成\n",
    "managers = my_dataset.getLocoManager(folds)"
   ]
  },
  {
   "cell_type": "markdown",
   "id": "f61c77a6-4cd5-491c-87a6-53492ce75885",
   "metadata": {},
   "source": [
    "## Test"
   ]
  },
  {
   "cell_type": "code",
   "execution_count": null,
   "id": "b14edc97-5eb8-4c0c-a24d-28adf4ce58f7",
   "metadata": {},
   "outputs": [],
   "source": [
    "for manager in managers:\n",
    "    fold_id, fold_name = manager['fold_id'], manager['fold_name']\n",
    "    print(f\"======== fold-id: {fold_id} / fold-name: {fold_name} ========\")\n",
    "    \n",
    "    # モデルの作成\n",
    "    ckpt_file = f\"{ckpt_path}/{fold_name}_model.pth\"\n",
    "    model, params = my_cnn.build_ResNet50(num_classes, [])\n",
    "    model.to(device)\n",
    "    model.load_state_dict(torch.load(ckpt_file))  # 重みをロード\n",
    "    \n",
    "    # データローダーを作成\n",
    "    loader = my_dataset.getLoader(dataset, manager, batch_size)\n",
    "    \n",
    "    # テスト\n",
    "    results = classification.test(\n",
    "        device       = device,\n",
    "        model        = model,\n",
    "        test_loader  = loader['test'],\n",
    "        name_classes = name_classes,\n",
    "    )\n",
    "    \n",
    "    # resultsの中身\n",
    "    for i in range(10):  # 10個分\n",
    "        print(f\"ファイル名：{results['fname'][i]} / 正解：{results['true'][i]} / positive：{results['positive'][i]:.4f} / negative：{results['negative'][i]:.4f}\")\n",
    "    \n",
    "    # 予測結果の解析\n",
    "    f, t, p, n = results['fname'], results['true'], results['positive'], results['negative']\n",
    "    \n",
    "    # (1)確信度の分布\n",
    "    my_roc.plotDistributionHistogram(t, p, save=f\"{output_path}/prob_dist\", prefix=fold_name)\n",
    "    \n",
    "    # (2)ROC, PR\n",
    "    thresh, fpr, tpr = my_cmatrix.get_youden_index(t, n)\n",
    "    my_roc.plotROCwithYoudenPoint(t, n, name_classes, fpr, tpr, force=True, save=f\"{output_path}/roc\", prefix=fold_name)\n",
    "    my_pr.plotPR(t, p, name_classes, force=True, save=f\"{output_path}/pr\", prefix=fold_name)\n",
    "    \n",
    "    # (3)混同行列\n",
    "    my_cmatrix.plotConfusionMatrix(t, p, name_classes, t=thresh, save=f\"{output_path}/cmatrix\", prefix=fold_name)\n",
    "    \n",
    "    # (4)Youden-Indexのカットオフ値による予測\n",
    "    preds_cutoff = [0 if thresh <= x else 1 for x in p]\n",
    "    youden_pred = {\"fname\": f,\"true\": t,\"pred\": preds_cutoff}\n",
    "    df_youden_pred = pd.DataFrame.from_dict(youden_pred)\n",
    "    df_youden_pred.to_excel(f\"{output_path}/preds/{fold_name}_youden-preds.xlsx\", index=False)"
    "    print()"
   ]
  },
  {
   "cell_type": "code",
   "execution_count": null,
   "id": "7dfb8caf-788c-45c5-bf9b-945e7636fbed",
   "metadata": {},
   "outputs": [],
   "source": []
  }
 ],
 "metadata": {
  "kernelspec": {
   "display_name": "Python 3 (ipykernel)",
   "language": "python",
   "name": "python3"
  },
  "language_info": {
   "codemirror_mode": {
    "name": "ipython",
    "version": 3
   },
   "file_extension": ".py",
   "mimetype": "text/x-python",
   "name": "python",
   "nbconvert_exporter": "python",
   "pygments_lexer": "ipython3",
   "version": "3.8.12"
  }
 },
 "nbformat": 4,
 "nbformat_minor": 5
}
