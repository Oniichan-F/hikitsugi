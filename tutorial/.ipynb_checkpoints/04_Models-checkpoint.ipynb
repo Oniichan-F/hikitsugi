{
 "cells": [
  {
   "cell_type": "code",
   "execution_count": null,
   "id": "249b0e18-8f4d-4ce1-962c-a3f5832c6a63",
   "metadata": {},
   "outputs": [],
   "source": [
    "%cd .."
   ]
  },
  {
   "cell_type": "markdown",
   "id": "26298eee-fe75-4f75-b13c-9425658908ed",
   "metadata": {},
   "source": [
    "# Models"
   ]
  },
  {
   "cell_type": "code",
   "execution_count": null,
   "id": "5e9b9d14-7396-4cd0-b4b2-d2d27d2ac034",
   "metadata": {},
   "outputs": [],
   "source": [
    "from mylib.classification.models import my_cnn, my_fusion_model"
   ]
  },
  {
   "cell_type": "code",
   "execution_count": null,
   "id": "09760caf-6d4e-4b0f-8859-14d9ed24ab1d",
   "metadata": {},
   "outputs": [],
   "source": [
    "from torchinfo import summary"
   ]
  },
  {
   "cell_type": "markdown",
   "id": "80b61197-744d-46c1-afc8-db7a9f3b36c1",
   "metadata": {},
   "source": [
    "## モデルの作り方"
   ]
  },
  {
   "cell_type": "code",
   "execution_count": null,
   "id": "3652d349-e680-4c1b-b831-f6569995f7e3",
   "metadata": {},
   "outputs": [],
   "source": [
    "# mylib.classification.modelsに様々なモデルがある\n",
    "model, _ = my_cnn.build_ResNet50(num_classes=2, training_layers=[])"
   ]
  },
  {
   "cell_type": "code",
   "execution_count": null,
   "id": "7ba18dc7-7f0b-41af-bd0b-caaaebcc5003",
   "metadata": {
    "tags": []
   },
   "outputs": [],
   "source": [
    "# torchinfoでモデルの構造が分かる\n",
    "print(summary(model, input_size=(32, 3, 224, 224), col_names=[\"input_size\", \"output_size\", \"kernel_size\", \"num_params\"]))"
   ]
  },
  {
   "cell_type": "code",
   "execution_count": null,
   "id": "898e4e75-61dd-493e-96b2-28aa97666042",
   "metadata": {
    "tags": []
   },
   "outputs": [],
   "source": [
    "# レイヤーの名前を表示\n",
    "for name, _ in model.named_parameters():\n",
    "    print(name)"
   ]
  },
  {
   "cell_type": "code",
   "execution_count": null,
   "id": "3205e386-a046-446c-b4d1-3f03345dc1f3",
   "metadata": {
    "tags": []
   },
   "outputs": [],
   "source": [
    "# 再学習するレイヤーを指定する\n",
    "# Trainable paramsが変化する\n",
    "model, _ = my_cnn.build_ResNet50(num_classes=2, training_layers=['layer3','layer4','fc'])\n",
    "print(summary(model, input_size=(32, 3, 224, 224), col_names=[\"input_size\", \"output_size\", \"kernel_size\", \"num_params\"]))"
   ]
  },
  {
   "cell_type": "markdown",
   "id": "fe6fb1e6-ae9a-44eb-9614-e6718c31b95d",
   "metadata": {},
   "source": [
    "## オリジナルモデル"
   ]
  },
  {
   "cell_type": "code",
   "execution_count": null,
   "id": "3ace4742-fdc5-4e69-9930-adf20b6143e8",
   "metadata": {},
   "outputs": [],
   "source": [
    "# Linear Head-Fusion Model\n",
    "# pretrained：融合する3つのResNet50のckptリスト\n",
    "model = my_fusion_model.LinearHeadFusionModel(num_classes=2, pretrained=None)\n",
    "print(summary(model, input_size=(32, 3, 224, 224), col_names=[\"input_size\", \"output_size\", \"kernel_size\", \"num_params\"]))"
   ]
  },
  {
   "cell_type": "code",
   "execution_count": null,
   "id": "35791323-28d8-4e3d-b815-5cab7f785222",
   "metadata": {},
   "outputs": [],
   "source": [
    "# Linear Logit-Fusion Model\n",
    "# pretrained：融合する3つのResNet50のckptリスト\n",
    "model = my_fusion_model.LinearLogitFusionModel(num_classes=2, pretrained=None)\n",
    "print(summary(model, input_size=(32, 3, 224, 224), col_names=[\"input_size\", \"output_size\", \"kernel_size\", \"num_params\"]))"
   ]
  },
  {
   "cell_type": "code",
   "execution_count": null,
   "id": "e87e8f91-3b12-40b0-bdde-9707d4166ca4",
   "metadata": {},
   "outputs": [],
   "source": [
    "# Attention-Based Fusion Model\n",
    "# ボツになったやつ\n",
    "# pretrained：融合する3つのResNet50のckptリスト\n",
    "model = my_fusion_model.AttentionBasedFusionModel(device='cuda:0', num_classes=2, pretrained=None)\n",
    "print(summary(model, input_size=(32, 3, 224, 224), col_names=[\"input_size\", \"output_size\", \"kernel_size\", \"num_params\"]))"
   ]
  },
  {
   "cell_type": "code",
   "execution_count": null,
   "id": "946d523d-061b-42e4-bb99-72dfa0df9bf5",
   "metadata": {},
   "outputs": [],
   "source": []
  }
 ],
 "metadata": {
  "kernelspec": {
   "display_name": "Python 3 (ipykernel)",
   "language": "python",
   "name": "python3"
  },
  "language_info": {
   "codemirror_mode": {
    "name": "ipython",
    "version": 3
   },
   "file_extension": ".py",
   "mimetype": "text/x-python",
   "name": "python",
   "nbconvert_exporter": "python",
   "pygments_lexer": "ipython3",
   "version": "3.8.12"
  }
 },
 "nbformat": 4,
 "nbformat_minor": 5
}
