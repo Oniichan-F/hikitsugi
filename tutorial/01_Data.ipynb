{
 "cells": [
  {
   "cell_type": "code",
   "execution_count": null,
   "id": "2122a4c1-b985-4e1d-83f7-6bfab753f4d4",
   "metadata": {},
   "outputs": [],
   "source": [
    "%cd .."
   ]
  },
  {
   "cell_type": "markdown",
   "id": "2699cbb6-45bc-499a-9d25-2485dc426859",
   "metadata": {},
   "source": [
    "# Data\n",
    "データの扱い方を見ていく"
   ]
  },
  {
   "cell_type": "code",
   "execution_count": null,
   "id": "0b4386cf-18c9-42b6-858e-7f75c19be860",
   "metadata": {},
   "outputs": [],
   "source": [
    "from mylib.data import my_dataloader, my_dataset, my_data_utils"
   ]
  },
  {
   "cell_type": "markdown",
   "id": "da687476-9b61-4c04-8df4-99731f69b3bf",
   "metadata": {
    "tags": []
   },
   "source": [
    "## パスの設定"
   ]
  },
  {
   "cell_type": "code",
   "execution_count": null,
   "id": "3b891f59-4413-46ac-9157-ad3be6a22b23",
   "metadata": {},
   "outputs": [],
   "source": [
    "image_path = \"data/images\"\n",
    "label_path = \"data/labels/label_legacy.xlsx\""
   ]
  },
  {
   "cell_type": "markdown",
   "id": "6ef35cac-ef24-4dfe-baaf-a154a3396a7c",
   "metadata": {},
   "source": [
    "## データの読み込み"
   ]
  },
  {
   "cell_type": "code",
   "execution_count": null,
   "id": "939de541-6f42-48e5-b56a-a05761335390",
   "metadata": {},
   "outputs": [],
   "source": [
    "# Excelのカラムを設定\n",
    "# labels_v2.xlsxを確認してね\n",
    "fname_key = \"fname\"\n",
    "label_key = \"pap2_groundtruth\"\n",
    "fold_key  = \"slide\"\n",
    "\n",
    "image_size = 224  # このサイズにリサイズ\n",
    "name_classes = [\"positive\", \"negative\"]  # positiveとnegativeの2クラス"
   ]
  },
  {
   "cell_type": "code",
   "execution_count": null,
   "id": "bf86cfb9-7336-42b3-89e8-94e400decb27",
   "metadata": {},
   "outputs": [],
   "source": [
    "# LoadData4()で，画像，ラベル，ファイル名，Fold識別子を読み込む\n",
    "# それぞれリストで格納\n",
    "images, labels, fnames, folds = my_dataloader.loadData4(\n",
    "    image_path,\n",
    "    label_path,\n",
    "    fname_key = fname_key,\n",
    "    label_key = label_key,\n",
    "    fold_key  = fold_key,\n",
    "    resize    = image_size,\n",
    "    to_tensor = True\n",
    ")"
   ]
  },
  {
   "cell_type": "code",
   "execution_count": null,
   "id": "627b8747-1450-4839-acb8-3bff53d30198",
   "metadata": {},
   "outputs": [],
   "source": [
    "# 読み込んだデータを確認\n",
    "idx = 400\n",
    "\n",
    "print(f\"ファイル名：{fnames[idx]} / ラベル：{labels[idx]} / Fold：{folds[idx]}\")\n",
    "my_data_utils.plotImage(im=images[idx], title=fnames[idx])"
   ]
  },
  {
   "cell_type": "markdown",
   "id": "dc6787ce-d83c-4abd-82b1-20b18b694b5b",
   "metadata": {},
   "source": [
    "## データセット (交差検証マネージャー)\n",
    "交差検証を行うための自作のマネージャー(辞書)\n",
    "foldのid，foldの名前, そのfoldのtrain(test)に使うデータのindexを管理"
   ]
  },
  {
   "cell_type": "code",
   "execution_count": null,
   "id": "ea5e99d1-e69a-4caa-9e98-26bba169ff6f",
   "metadata": {},
   "outputs": [],
   "source": [
    "# データセットの作成\n",
    "dataset = my_dataset.MyDataset(images, labels, fnames, name_classes)\n",
    "\n",
    "# Leave-one-case-out交差検証を行うmanagerを作成\n",
    "managers = my_dataset.getLocoManager(folds)"
   ]
  },
  {
   "cell_type": "code",
   "execution_count": null,
   "id": "188ff4c3-addc-49fb-a945-8830a9d5430c",
   "metadata": {},
   "outputs": [],
   "source": [
    "# managerの構造\n",
    "# 各foldのtrain_indexとtest_indexをまとめた辞書リスト\n",
    "print(f\"Fold数：{len(managers)}\")"
   ]
  },
  {
   "cell_type": "code",
   "execution_count": null,
   "id": "564db2ec-988e-4034-a0c0-3cb7dfcebfc7",
   "metadata": {},
   "outputs": [],
   "source": [
    "# 0番目のfoldに着目\n",
    "manager = managers[0]\n",
    "\n",
    "print(f\"fold_id：{manager['fold_id']}\")\n",
    "print(f\"fold_name：{manager['fold_name']}\")\n",
    "\n",
    "print(f\"fold_id=0のtrain_idx：{manager['train'][0:32]}\")\n",
    "print(f\"fold_id=0のtest_idx：{manager['test'][0:32]}\")"
   ]
  },
  {
   "cell_type": "markdown",
   "id": "62737d4b-e018-47fd-9859-7556ce04f505",
   "metadata": {},
   "source": [
    "## データセット (データローダー)\n",
    "PyTorchのデータローダの中身を確認"
   ]
  },
  {
   "cell_type": "code",
   "execution_count": null,
   "id": "7d439365-a00e-4785-a241-4427babe852b",
   "metadata": {},
   "outputs": [],
   "source": [
    "# val_ratio：trainデータのうちvalidationに使う割合\n",
    "loader = my_dataset.getLoader(dataset, manager, batch_size=32, val_ratio=0.1)"
   ]
  },
  {
   "cell_type": "code",
   "execution_count": null,
   "id": "1d373b0d-e035-4989-bf89-3bd480f4d506",
   "metadata": {},
   "outputs": [],
   "source": [
    "# loaderの中身\n",
    "train_loader, valid_loader, test_loader = loader['train'], loader['valid'], loader['test']\n",
    "\n",
    "for x, y, f in train_loader:\n",
    "    for i in range(len(f)):\n",
    "        print(f\"ファイル名：{f[i]} / ラベル：{y[i]}\")\n",
    "    break  # 1バッチ分のみ取り出す"
   ]
  },
  {
   "cell_type": "code",
   "execution_count": null,
   "id": "8473c7b4-2671-4726-9230-956052b8935f",
   "metadata": {},
   "outputs": [],
   "source": []
  }
 ],
 "metadata": {
  "kernelspec": {
   "display_name": "Python 3 (ipykernel)",
   "language": "python",
   "name": "python3"
  },
  "language_info": {
   "codemirror_mode": {
    "name": "ipython",
    "version": 3
   },
   "file_extension": ".py",
   "mimetype": "text/x-python",
   "name": "python",
   "nbconvert_exporter": "python",
   "pygments_lexer": "ipython3",
   "version": "3.8.12"
  }
 },
 "nbformat": 4,
 "nbformat_minor": 5
}
