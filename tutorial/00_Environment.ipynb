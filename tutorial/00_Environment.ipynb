{
 "cells": [
  {
   "cell_type": "markdown",
   "id": "5a16655f-0ab2-417d-a403-d99e4cbedf96",
   "metadata": {},
   "source": [
    "# Environment"
   ]
  },
  {
   "cell_type": "markdown",
   "id": "d0057fe8-8657-465c-9ef8-0b335e0c9306",
   "metadata": {},
   "source": [
    "以下のコードを実行できればOK"
   ]
  },
  {
   "cell_type": "code",
   "execution_count": null,
   "id": "db3fa9bf-8370-43e5-ba0d-ca73ba3148d9",
   "metadata": {},
   "outputs": [],
   "source": [
    "import sys\n",
    "import torch"
   ]
  },
  {
   "cell_type": "code",
   "execution_count": null,
   "id": "14f40759-66e8-45d7-8f48-026c41763777",
   "metadata": {},
   "outputs": [],
   "source": [
    "print(f\"Python version: {sys.version}\")\n",
    "print(f\"Torch version:  {torch.__version__}\")\n",
    "print(f\"CUDA available: {torch.cuda.is_available()}\")\n",
    "print(f\"device name:    {torch.cuda.get_device_name()}\")"
   ]
  },
  {
   "cell_type": "markdown",
   "id": "98b7da8f-0d0d-4353-83b6-d8c62b84f6c5",
   "metadata": {},
   "source": [
    "example:  \n",
    "Python version: 3.8.12 (default, Oct 12 2021, 03:01:40) [MSC v.1916 64 bit (AMD64)]  \n",
    "Torch version:  1.13.1+cu116  \n",
    "CUDA available: True  \n",
    "device name:    NVIDIA GeForce RTX 3090  "
   ]
  },
  {
   "cell_type": "code",
   "execution_count": null,
   "id": "2ca68db3-1bd9-4941-9b30-65537a480d74",
   "metadata": {},
   "outputs": [],
   "source": []
  }
 ],
 "metadata": {
  "kernelspec": {
   "display_name": "Python 3 (ipykernel)",
   "language": "python",
   "name": "python3"
  },
  "language_info": {
   "codemirror_mode": {
    "name": "ipython",
    "version": 3
   },
   "file_extension": ".py",
   "mimetype": "text/x-python",
   "name": "python",
   "nbconvert_exporter": "python",
   "pygments_lexer": "ipython3",
   "version": "3.8.12"
  }
 },
 "nbformat": 4,
 "nbformat_minor": 5
}
